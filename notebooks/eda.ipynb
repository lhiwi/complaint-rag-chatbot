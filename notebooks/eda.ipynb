{
 "cells": [
  {
   "cell_type": "markdown",
   "id": "0",
   "metadata": {
    "colab_type": "text",
    "id": "view-in-github"
   },
   "source": [
    "<a href=\"https://colab.research.google.com/github/lhiwi/complaint-rag-chatbot/blob/task1-eda/notebooks/eda.ipynb\" target=\"_parent\"><img src=\"https://colab.research.google.com/assets/colab-badge.svg\" alt=\"Open In Colab\"/></a>"
   ]
  },
  {
   "cell_type": "markdown",
   "id": "1",
   "metadata": {
    "id": "0"
   },
   "source": [
    "## EDA"
   ]
  },
  {
   "cell_type": "code",
   "execution_count": null,
   "id": "2",
   "metadata": {
    "colab": {
     "base_uri": "https://localhost:8080/"
    },
    "id": "n5a9K_BxujX4",
    "outputId": "45d493a7-5c48-485f-bea2-efe1d2aa1a24"
   },
   "outputs": [],
   "source": [
    "from google.colab import drive\n",
    "drive.mount('/content/drive')"
   ]
  },
  {
   "cell_type": "code",
   "execution_count": null,
   "id": "3",
   "metadata": {
    "id": "BJTfIf2T4CnV"
   },
   "outputs": [],
   "source": [
    "# Standard libraries\n",
    "import os\n",
    "import re\n",
    "\n",
    "# Data handling\n",
    "import pandas as pd\n",
    "import numpy as np\n",
    "\n",
    "# Visualization\n",
    "import matplotlib.pyplot as plt\n",
    "import seaborn as sns\n",
    "\n",
    "# Progress bars\n",
    "from tqdm.auto import tqdm\n",
    "tqdm.pandas()\n",
    "\n"
   ]
  },
  {
   "cell_type": "code",
   "execution_count": null,
   "id": "4",
   "metadata": {
    "colab": {
     "base_uri": "https://localhost:8080/",
     "height": 529
    },
    "id": "-yEgiz2PRMfT",
    "outputId": "6d66ed93-2c6a-4d3b-c724-d3f6a3616fb5"
   },
   "outputs": [],
   "source": [
    "# load the data\n",
    "RAW_PATH = '/content/drive/MyDrive/Copy of complaints.csv'\n",
    "\n",
    "# Read file\n",
    "df = pd.read_csv(RAW_PATH)\n",
    "\n",
    "# Sanity-check\n",
    "print(f\"Loaded {df.shape[0]} rows × {df.shape[1]} cols from {RAW_PATH}\")\n",
    "df.head(3)\n",
    "\n"
   ]
  },
  {
   "cell_type": "code",
   "execution_count": null,
   "id": "5",
   "metadata": {
    "colab": {
     "base_uri": "https://localhost:8080/"
    },
    "id": "FH8rhUwZlB9C",
    "outputId": "e3f1a934-3742-4691-e38f-f969672690d9"
   },
   "outputs": [],
   "source": [
    "for col in df.columns:\n",
    "    print(\"  \", repr(col))"
   ]
  },
  {
   "cell_type": "code",
   "execution_count": null,
   "id": "6",
   "metadata": {
    "id": "grZpgFCsMWpY"
   },
   "outputs": [],
   "source": [
    "# the five products of interest\n",
    "TARGET_PRODUCTS = [\n",
    "    'Credit card',\n",
    "    'Personal loan',\n",
    "    'Buy now pay later',\n",
    "    'Savings account',\n",
    "    'Money transfers'\n",
    "]\n",
    "\n",
    "# Text-cleaning function\n",
    "def clean_text(txt):\n",
    "    txt = txt.lower()\n",
    "    txt = re.sub(r'http\\S+', ' ', txt)\n",
    "    txt = re.sub(r'writing to file a complaint', ' ', txt)\n",
    "    txt = re.sub(r'[^a-z0-9\\s]', ' ', txt)\n",
    "    return re.sub(r'\\s+', ' ', txt).strip()\n"
   ]
  },
  {
   "cell_type": "code",
   "execution_count": null,
   "id": "7",
   "metadata": {
    "colab": {
     "base_uri": "https://localhost:8080/",
     "height": 241
    },
    "id": "CzyzLMAsl6gP",
    "outputId": "771b5c16-039f-49ae-c267-6545ff30e876"
   },
   "outputs": [],
   "source": [
    "#  Load a sample with the actual column names\n",
    "usecols = ['Date received', 'Product', 'Issue', 'Consumer complaint narrative']\n",
    "df_sample = pd.read_csv(RAW_PATH, usecols=usecols, nrows=200_000)\n",
    "df_sample = df_sample.dropna(subset=['Consumer complaint narrative'])\n",
    "print(df_sample.shape)\n",
    "print(f\"Sample loaded: {df_sample.shape[0]} rows\")\n",
    "df_sample.head()"
   ]
  },
  {
   "cell_type": "code",
   "execution_count": null,
   "id": "8",
   "metadata": {
    "colab": {
     "base_uri": "https://localhost:8080/",
     "height": 206
    },
    "id": "p2W9fwaqLeEB",
    "outputId": "adb93cef-be00-40ad-de99-b2881970761a"
   },
   "outputs": [],
   "source": [
    "# Drop empty narratives in the sample\n",
    "df_sample = df_sample[df_sample['Consumer complaint narrative'].notna()\n",
    "                      & df_sample['Consumer complaint narrative'].str.strip().ne('')]\n",
    "\n",
    "df_sample.head()\n"
   ]
  },
  {
   "cell_type": "code",
   "execution_count": null,
   "id": "9",
   "metadata": {
    "colab": {
     "base_uri": "https://localhost:8080/",
     "height": 507
    },
    "id": "wxxGDGPILlQc",
    "outputId": "d94f3467-95d9-486a-e97d-c8b493245769"
   },
   "outputs": [],
   "source": [
    "# Product distribution\n",
    "prod_counts = df_sample['Product'].value_counts()\n",
    "plt.figure(figsize=(10,5))\n",
    "sns.barplot(x=prod_counts.index, y=prod_counts.values)\n",
    "plt.xticks(rotation=45, ha='right')\n",
    "plt.title('Sample: Complaints by Product')\n",
    "plt.tight_layout()\n",
    "plt.show()"
   ]
  },
  {
   "cell_type": "code",
   "execution_count": null,
   "id": "10",
   "metadata": {
    "colab": {
     "base_uri": "https://localhost:8080/",
     "height": 507
    },
    "id": "f5ranvjFLpE7",
    "outputId": "08e97659-0758-49e3-b4f7-af309b495137"
   },
   "outputs": [],
   "source": [
    "# Narrative lengths\n",
    "df_sample['n_words'] = df_sample['Consumer complaint narrative'].str.split().apply(len)\n",
    "plt.figure(figsize=(10,5))\n",
    "sns.histplot(df_sample['n_words'], bins=50)\n",
    "plt.xlim(0,500)\n",
    "plt.title('Sample: Narrative Lengths (words)')\n",
    "plt.tight_layout()\n",
    "plt.show()"
   ]
  },
  {
   "cell_type": "markdown",
   "id": "11",
   "metadata": {
    "id": "-SHZTIAmiuBC"
   },
   "source": [
    "Time-Series of Complaint Volume"
   ]
  },
  {
   "cell_type": "code",
   "execution_count": null,
   "id": "12",
   "metadata": {
    "colab": {
     "base_uri": "https://localhost:8080/"
    },
    "id": "XmxJ5s_WkOYC",
    "outputId": "e075d636-4ac8-4137-b171-acffa9ee3587"
   },
   "outputs": [],
   "source": [
    "# Identify any columns that look like a date\n",
    "date_cols = [c for c in df_sample.columns if 'date' in c.lower()]\n",
    "print(\"Found date columns:\", date_cols)\n"
   ]
  },
  {
   "cell_type": "code",
   "execution_count": null,
   "id": "13",
   "metadata": {
    "colab": {
     "base_uri": "https://localhost:8080/",
     "height": 443
    },
    "id": "TuYzNF-3iWcR",
    "outputId": "2265bd97-60a5-454e-cec9-71e8e97967ab"
   },
   "outputs": [],
   "source": [
    "date_col = 'Date received'\n",
    "\n",
    "if date_col in df_sample.columns:\n",
    "    df_sample[date_col] = pd.to_datetime(df_sample[date_col], errors='coerce')\n",
    "    monthly = (\n",
    "        df_sample\n",
    "          .dropna(subset=[date_col])\n",
    "          .set_index(date_col)\n",
    "          .resample('M')\n",
    "          .size()\n",
    "          .rename('complaint_count')\n",
    "          .to_frame()\n",
    "    )\n",
    "    plt.figure(figsize=(10,4))\n",
    "    sns.lineplot(data=monthly, x=monthly.index, y='complaint_count')\n",
    "    plt.title('Sample: Monthly Complaint Volume')\n",
    "    plt.xlabel('Month'); plt.ylabel('Count')\n",
    "    plt.tight_layout(); plt.show()\n",
    "else:\n",
    "    print(f\"No date column named {date_col!r}; skipping time-series plot.\")\n"
   ]
  },
  {
   "cell_type": "markdown",
   "id": "14",
   "metadata": {
    "id": "H1pvizGpj8tZ"
   },
   "source": [
    "Top 10 Issue Labels"
   ]
  },
  {
   "cell_type": "code",
   "execution_count": null,
   "id": "15",
   "metadata": {
    "colab": {
     "base_uri": "https://localhost:8080/",
     "height": 616
    },
    "id": "VZJuyhtRjWkW",
    "outputId": "526d5591-c0c9-4bc3-8730-871076787824"
   },
   "outputs": [],
   "source": [
    "top_issues = df_sample['Issue'].value_counts().nlargest(10)\n",
    "plt.figure(figsize=(10,5))\n",
    "sns.barplot(x=top_issues.values, y=top_issues.index, palette='mako')\n",
    "plt.title('Sample: Top 10 Complaint Issue Labels')\n",
    "plt.xlabel('Count'); plt.ylabel('Issue Label')\n",
    "plt.tight_layout(); plt.show()\n"
   ]
  },
  {
   "cell_type": "code",
   "execution_count": null,
   "id": "16",
   "metadata": {
    "id": "7KS_lIPoRm8W"
   },
   "outputs": [],
   "source": [
    "# to save filtered data\n",
    "OUT_PATH = 'data/filtered_complaints.csv'"
   ]
  },
  {
   "cell_type": "markdown",
   "id": "17",
   "metadata": {
    "id": "Eie2eb3MjPWj"
   },
   "source": [
    "Processing & Cleaning"
   ]
  },
  {
   "cell_type": "code",
   "execution_count": null,
   "id": "18",
   "metadata": {
    "colab": {
     "base_uri": "https://localhost:8080/",
     "height": 707,
     "referenced_widgets": [
      "adc64c0377174ede9f53ae765f70b972",
      "8e8a7c02c8f44bd28faad59f83c1ce75",
      "3fb0cf92053141e0ab8ab1163c7f73da",
      "4638a655fdc94a1dafe1f8832fa2d219",
      "b419a61e8df848ddbb6afba48766dd16",
      "e6c2eac2ceb54944992f37e58b83c5fa",
      "be2886f81c204491a0b86bd61048fc54",
      "835e1b4f27c84a8098d1cb5b0f6f8c62",
      "0627fca1b7134bfe81c17d81c6abbb73",
      "3705d3dd6ac64be28e33ded98f2dc8f1",
      "e3e346ba945f46fcb282a35a204b565c",
      "beae66d579074209be0d43f76921dbb7",
      "49425000a77d4fda89da7afbc475512e",
      "654d81328bfa4da2963d91fbbebc34a9",
      "42a797d7688748948b9559e8e8d0c5f7",
      "0b501cc163424b51b3bcfdec7645ebed",
      "4c9b88b42c3a44cc8b48c59b2dbf1c00",
      "0fd4ad62eaad4d5281f707a61296f030",
      "5e72dfa2422b4e0aafbad3537a2e95c3",
      "b6f4c19e2a374b3ab9ae1e23392c28fb",
      "416640b31065441780f58c78c34dbfd1",
      "aebca47d7eee4d00b16978e766f52418",
      "14bc7b035ac04ad386d0a4b8372d9bb7",
      "9e6939d231da4892b0630db331e6c41c",
      "5010e48e49ef4a3bbdd73c5ebf7990b6",
      "5832331ed6d0454498bec6404d531c2e",
      "299a7c72a19a48aa8e6f539a5f7fe0a5",
      "5c31bd1afc15456194d4faa68e2c402b",
      "10356a65508e49a4881c7578a4732034",
      "30d48fcc0b394694b0ed0b9f5639ac6a",
      "b65ef2c517b7449d849213341c235d9f",
      "4cd6be4a035943eb85b7a79c9d23ad63",
      "ce7ffda0ca44441eb4c9abe09aba1acd",
      "99c0f5bb49ff41dab2baeb4a890140db",
      "7d567ec1ec864c298aca98dea985d367",
      "f253f3a388164b10bf0f689db314c92e",
      "7a1f5f8ff0fc45f2a36cc3c549e71326",
      "a25b3faed5774448aa2d1d67bf213527",
      "135388dd066b4d72b51f3b9506eeffdd",
      "206b35e720dc4706a6b3c4fca9974fec",
      "a70703d31bab4e9785096887b1b5f128",
      "d65e3babf6c74dda9b2d53178bfafa77",
      "5c3b957285c449dea0fb67bd09b8f680",
      "5fabc4baf9044c0399f12504369cf3d7",
      "19fdd85fb83043e7b2aa318dd71514fe",
      "6bfcf1a8b2f64ad398ebaf8f465ca090",
      "4e78bcee19ce4ac0bed586906f8ae91e",
      "61e4c0ee7ec7497b8074a38bab29ccef",
      "d5d5cdd4c72e4b4ebcc6f2c83f7a4cb6",
      "450db0f5c04e4bb383067138849f12b6",
      "f390c4f7c2f746a3b157252b0ac91c13",
      "88a62fa2d89c4567bc0172bfd31ab626",
      "ad7f8da71c4f44b5a776dc9f13f6e983",
      "84efb34da69946388fc8e9ecfede458b",
      "bfb529db03a34a669352e6b8553df87a",
      "5e33db79ffa14251b740c4d2f8217cdc",
      "c3cac8bac732477a997d615166b0e112",
      "5cb8d251797a48b49ba7f1ec0938ebfc",
      "43b949a0ec05483fa543b0c986f1bc9e",
      "a43826f62c1a42c38513f035d00da324",
      "1f048f6fe3da4a46aa7d620c1c6937a4",
      "216dfd6f00344d1799da01dd67c0e189",
      "1e900d1175fe4ecfb043f48f1a24024c",
      "04e57ccc08354cacae63d49f6d971edf",
      "6001b1e56cab402fa6b1917e218a90c0",
      "82ad8622ef214872a3fd1a2b0befd795",
      "c6da6241364b4e5eb0caea920a8fc221",
      "167de6587abd49a0b23b2350070c5257",
      "c04d53c50cdd44a682893c15edc4f903",
      "8172c8ce98a341d0a62fd6956dd94960",
      "172c1bada25247f7a9eae7d04431f2e6",
      "332a8c0b3e5a4f269e05ecdf38452205",
      "e00e852f1e7f47348cd6a0757f40c8b0",
      "f7f6d483e02b4e5eb83ef457e19c0171",
      "91209ec7475e4745980f44d89a77d6b0",
      "ff09a1b1023d438cb66f2e0a5bf22750",
      "dca64845e391465c9747487421c3c8eb",
      "d13f65c8a722458f97192a88c85ca497",
      "6efab5eeb4cc433c8dc3886661b00b4a",
      "87d3159457b04884bb9626e61d4c3ced",
      "817550546f194705a6815edbe5122328",
      "bed41e6eead5438ebe82ffdb254c9334",
      "8985a3ebd9324b40b5a59bd880d802c8",
      "95bcfb12c2804fe2b9a18fe43a52a758",
      "0082c84e49d8412e979ea92cf1d075e5",
      "c51b66f7fcc941148276a747368b7a62",
      "bb9e389975fb4fbc95f43c32d4e34c0f",
      "a8bee9512d8f4b13a0ad34bf0bec9c5a",
      "359972df75154851880749d7d8a6784b",
      "8d66f95330a944529b78bd00d83ccd43",
      "fc9878c659e64b40b22eec9abc241d2d",
      "2a8c1ccb94e4446d9a00666c51a70bf9",
      "a2b3c13469f7490fb77d8de102ca1a2a",
      "95f2ced486044c17832fc9ee5a6805a8",
      "eb6f58e4920545f5b7085e66dcc99493",
      "4b6e05abffe64ebf9b0b8a0b59fb84a8",
      "1848f5da67af49238aca635e5cc0c5b8",
      "4905c8baf252415c8b5c906b95c97f87",
      "59c85c0ac48f48de8e51c366f7a31a5a",
      "c9e735f22e464390bd83e6a58a364323",
      "24a56e4b10724653b848f55a3700c4a9",
      "6f8280ff5fe148dd85110b3e0fbab2fc",
      "7c3732a475614808920fcf257732dd7e",
      "871b451ed255408b825e20036d0340e1",
      "971dd6cb236d47f1a50498ee85e3b84e",
      "baeb2af2b72c452aad20df35349f45b3",
      "b7042d49d72342cfbbe45db038b99391",
      "5f5c229a5280473f9e569a09f01dd139",
      "4d2c09ae90224a1980f644365a8c4796",
      "1c21c3f124a840df839de549a766410d",
      "a8e47736b18944faa11b9272f50a7666",
      "13cf7149ce0043e7b8e694f5c6f79b31",
      "87050cd80e5f47eaa25337d495a37715",
      "136923dab2aa4ba5a4c964d247b7733a",
      "9f55cb85b6ef48f78b0abbe876b88f15",
      "5be290ec72b547fc8939d39b0d01454b",
      "f3450c813f7a40fcb6a34d9273259904",
      "f6430dd2106f41dda289005e779419a6",
      "737235ec42ee4a91a76525f59ed9fb69",
      "8885929a4c8748eb9b54bf5987b71539",
      "cc45ec1ae61e47b99836fdf75184ebfa",
      "42034f1bd1074da1a9566a60d7070d35",
      "90d89d88029246fea18d7bd09bb60d22",
      "8e926d9176b24654a1be72514cacd354",
      "0256015bb9c444c699e5e014aa15f65d",
      "6cb6636aa9eb4d3d9a26921248309c66",
      "19d75df370fb4ceb8e10d8667147ff1e",
      "426aa7d664f34084ae2ad5bf61afc1b6",
      "e73982fb83ed46bc9e6342c1eae6424f",
      "2d3eb69bb3684ff091dd4b6974850ae9",
      "f27853472ae04c48a56115c0b027ebfd",
      "f10329fa66194c348c79892f6cc824f1",
      "be40e59280b64b53a79fb8e602c20385",
      "c829296dd6d14174b41bbd4cd6630f01",
      "6fde80637a10470ca683816335c05f7c",
      "1807ec3f61cc429faae270c74db474d9",
      "2008790d6d3d4fd6bfd04795e8baf91d",
      "d6dca530cf314fb09919a1473702a689",
      "c23a8b28a4be450293ab7d0c46d8e2f8",
      "883b12725ab84b96946d1d595c72c145",
      "31184e390bda4970a5dd0f45724ef56d",
      "d71633b38f214cf5bf36c0ce02a3bebd",
      "5d58847253b943f49c102fe318daf442",
      "650e8fc493954e1a81d96d30874a8b14",
      "af5f16390feb4155a8755364d2afa519",
      "75d7ce8e11c44c6aa44b000e760582df",
      "237322cb9b174f94bdf0eb828f6a7b10",
      "feb0e877718c465bb41e3a8972f64f0d",
      "abe8043da39e4883b9657bfa0fd1028d",
      "5a13426a629f4010be5953455b65bda4",
      "6cbb42bef61c40ab91c107da0955ac2f",
      "cc776f3584c04129846ebd0c3a8eaaf7",
      "b66af1e6aa8f4fd2857c2195e96d1f51",
      "5043831597074bada01c7191bf9b774f",
      "35752cfe888b4f0597d6c609556574ce",
      "c0c2f2483a814a838ea50cbb4b3a9fbc",
      "884eb47a9a614581b57bb76564e6a7ca",
      "6af76564a63f477fbe69b7cdfa1a604a",
      "bfaac7c87e7c4ecda6c96ac6ac521dc4",
      "3a7df3c905c04f759b8453e06ccdd635",
      "e98ee9f432f34314b587984490d22d65",
      "15dfc82379cf4862894209cd3b4f87ef",
      "a01ed34a0b6c4056ac2118c8e6c7d3ef",
      "cbc31b96927842c286ad7929132a60cb",
      "bfa59335dc514549a04f5f73020922a1",
      "6fbac826a4174a8489fb0ce665e0cf19",
      "3a65e1a8f8c14e9f95e7d4903f1abb01",
      "b1ce64a64bff44ad9e85dd60c36add3a",
      "e624c277ffca49d6bd47178c4341b966",
      "af073521ea7a49caa7f35a33f8c02f8e",
      "61a538e26fc44cae82b5dca4ae188ca8",
      "617defcdb3444331809e2284ee537c6a",
      "b8d5bb2fe1df41b9ad93019b4ea01826",
      "b20cf7e64cac4307b9f04155fa317710",
      "2b94af9f26ab4c1fa0fc6b544cc3cd35",
      "81d8687957d642a5bf94cfb55b7cf390",
      "8fef2a9cb66a43a49f11e9b2f88a17f0",
      "5cebe753362b4546b0637cbbcc40021c",
      "d9050db9dd1344f3b602f10e5283481c",
      "ca0cef958ea94ee6b27405cebcb28100",
      "3ac3e153b7de4cec833641edc5d3e929",
      "0775777668914354b27d88ac759c1e2c",
      "b575e16a060f43f0937f90fdc88baae4",
      "e0dfc3fc6c174599be94804ede83a6ba",
      "8708b46473e24fc3a165f13f0a8d8c6d",
      "b24c17140f9b41fd94fc081a5a862a37",
      "0ddcfb8a7da64afc91d66837753940a2",
      "e67e3e575f49443d9cdaf80dbbf23b72",
      "639f4ffc243448e0a093f31339925aa2",
      "3a8c49c4c5034b13a73354c39c93fd7b",
      "eb908fa73bf743b999e41d81e8f90c7b",
      "c4b85b7bb2094cbc9656f7c1fa9bbfb3",
      "d1502ea43e7348c8b0d35153b218b6a6",
      "ec69645c9f20473f91a0022d10ac4b15",
      "e258372024934abdb519410f38bb752f",
      "3acb80e11c2944359b57da702fa878a5",
      "07bd7a86927f42fa95de85f87e490256",
      "47830d7e8fbe4fb9b9bc93a51075c117",
      "1cb0b2ced557414f80a7d3872dc831b9",
      "3de8e4bf0e27461e9d2d200b63b9d0c7",
      "d4a644da4ef34112878f66c6919a165e",
      "56f3b4336b8041cc8ed913775423cb83",
      "51d75baaa9a041929c2b4eeb3918a257",
      "04e7c923529c421688bb001962490383",
      "b0a20a9b0fcc4f699ab6e4775f940ed1",
      "4c610be1533145618f561f2d8d709ddf",
      "339a920310fd48dbb683470e73a4ae7a",
      "89297289780f4186819402df8fe2dbcf",
      "1e16c04eb7aa4cd5a431dd527f82e953",
      "a16575812c254a29b362ae873d23c010",
      "25e70bae7a784741b8652519cca68225",
      "25647a24133d477c961afad8f19686a5",
      "f0886925962a440b8b0a361bfcb15b41",
      "ce15cde8a8c04841bf3a27a63b1138e8",
      "5a69fb65a79641f2999e53b4aef6f090",
      "01835317396c48e0ae804a15ece15d87",
      "3f4e1bad995e4fab878d07833bf8ab1e",
      "48ce049d719749c3a51e4219e5418de6",
      "3024221844ab40108c03d860717db837",
      "402cb4508af74987afafdb2cf6dcfe49",
      "3f6f8a3af36f45aeb44158fab7efc230",
      "ee2c0f60cec34763acc0e0284effb418",
      "a210a419377147af88db9fcf455a2b21",
      "0f9e591e472f40fab787b7318de5a952",
      "f35651006e18483b85ddc02464e54890",
      "cc5ad12e8c05497484a9dbef48a9f3ea",
      "9e130793c82a42ae92031364a901be5d",
      "a91de7f313654f6b8f795fca32ad0aa9",
      "b2eb8353f0d04ee5861aa1a4bfb35a14",
      "518c9f4b4f714693b90b45f09528905f",
      "397d8a9e452248e689f8ae8b5fa8fd69"
     ]
    },
    "id": "-cqDLvIwLuQV",
    "outputId": "11084a5f-944b-4c50-c95c-d75b8c9bcc64"
   },
   "outputs": [],
   "source": [
    "# Check the output directory exists\n",
    "out_dir = os.path.dirname(OUT_PATH)  # this is 'data'\n",
    "os.makedirs(out_dir, exist_ok=True)\n",
    "\n",
    "# If you’d like to start fresh, delete any existing file\n",
    "if os.path.exists(OUT_PATH):\n",
    "    os.remove(OUT_PATH)\n",
    "\n",
    "#  Read & process in chunks\n",
    "reader = pd.read_csv(\n",
    "    RAW_PATH,\n",
    "    usecols=['Product', 'Consumer complaint narrative'],\n",
    "    chunksize=500_000,\n",
    "    iterator=True\n",
    ")\n",
    "\n",
    "for i, chunk in enumerate(tqdm(reader, desc='Processing chunks')):\n",
    "    # 5.3.1 Filter to target products & non-empty narratives\n",
    "    mask = (\n",
    "        chunk['Product'].isin(TARGET_PRODUCTS)\n",
    "        & chunk['Consumer complaint narrative'].notna()\n",
    "        & chunk['Consumer complaint narrative'].str.strip().ne('')\n",
    "    )\n",
    "    df_chunk = chunk.loc[mask].copy()\n",
    "\n",
    "    #  Clean text\n",
    "    df_chunk['clean_narrative'] = df_chunk['Consumer complaint narrative']\\\n",
    "        .progress_apply(clean_text)\n",
    "\n",
    "    #  Write out header only on first chunk\n",
    "    df_chunk.to_csv(\n",
    "        OUT_PATH,\n",
    "        index=False,\n",
    "        mode='w' if i == 0 else 'a',\n",
    "        header=(i == 0)\n",
    "    )\n",
    "\n",
    "print(f\" cleaned data saved to {OUT_PATH}\")\n"
   ]
  },
  {
   "cell_type": "code",
   "execution_count": null,
   "id": "19",
   "metadata": {
    "colab": {
     "base_uri": "https://localhost:8080/",
     "height": 224
    },
    "id": "pS1T-sD2N9mT",
    "outputId": "e192a2ce-ab4b-44f7-bf51-7831eaa87322"
   },
   "outputs": [],
   "source": [
    "# Sanity-Check the Output\n",
    "df_filt = pd.read_csv(OUT_PATH, nrows=5)\n",
    "print(df_filt.shape)\n",
    "df_filt.head()\n"
   ]
  },
  {
   "cell_type": "markdown",
   "id": "20",
   "metadata": {
    "id": "1"
   },
   "source": []
  }
 ],
 "metadata": {
  "colab": {
   "include_colab_link": true,
   "provenance": []
  },
  "kernelspec": {
   "display_name": "Python 3",
   "name": "python3"
  },
  "language_info": {
   "name": "python"
  }
 },
 "nbformat": 4,
 "nbformat_minor": 5
}
